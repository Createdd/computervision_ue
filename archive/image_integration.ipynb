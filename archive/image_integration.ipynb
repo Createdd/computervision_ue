{
 "cells": [
  {
   "cell_type": "code",
   "execution_count": null,
   "metadata": {},
   "outputs": [],
   "source": [
    "import skimage\n",
    "from skimage import io\n",
    "import matplotlib.pyplot as plt\n",
    "import json\n",
    "import cv2\n",
    "import numpy as np\n",
    "import matplotlib\n",
    "import os"
   ]
  },
  {
   "cell_type": "code",
   "execution_count": null,
   "metadata": {
    "scrolled": false
   },
   "outputs": [],
   "source": [
    "def integrate_parallel(dataset = 'train'):\n",
    "\n",
    "    mask = skimage.io.imread('data_WiSAR\\\\data\\\\mask.png')\n",
    "    if not os.path.isdir('data_WiSAR\\\\data\\\\integrated_imgs_' + dataset):\n",
    "        os.makedirs('data_WiSAR\\\\data\\\\integrated_imgs_' + dataset)\n",
    "    for folder in os.listdir('data_WiSAR\\\\data\\\\' + dataset):\n",
    "        if folder.startswith(dataset):\n",
    "            if not os.path.isdir('data_WiSAR\\\\data\\\\integrated_imgs_' + dataset + '\\\\' + folder):\n",
    "                os.makedirs('data_WiSAR\\\\data\\\\integrated_imgs_' + dataset + '\\\\' + folder)\n",
    "            with open('data_WiSAR\\\\data\\\\' + dataset + '\\\\' + folder + '\\\\homographies.json') as f:\n",
    "                homographies = json.load(f)\n",
    "            for time_point in [0,1,2,3,4,5,6]:\n",
    "                warped_imgs = []\n",
    "                for camera in ['B01', 'B02', 'B03', 'B04', 'B05', 'G01', 'G02', 'G03', 'G04', 'G05']:\n",
    "                    img = skimage.io.imread('data_WiSAR\\\\data\\\\' + dataset + '\\\\' + folder + '\\\\' + str(time_point) + '-' + camera + '.png')\n",
    "                    img = img[..., :3].astype(np.float32)/255\n",
    "                    img[mask==0] = np.nan\n",
    "\n",
    "                    homography = np.array(homographies[str(time_point) + '-' + camera])\n",
    "                    warped_img = img.copy()\n",
    "                    for dim in range(3):\n",
    "                        warped_img[:,:,dim] = cv2.warpPerspective(img[:,:,dim],homography,img.shape[:2],borderMode = cv2.BORDER_CONSTANT,borderValue = np.nan) \n",
    "                    warped_imgs.append(warped_img)\n",
    "\n",
    "                integrated_img = np.nanmean(np.array(warped_imgs), axis = 0)\n",
    "\n",
    "                integrated_img_nan = integrated_img.copy()\n",
    "                for dim in range(3):\n",
    "                    integrated_img_nan[:,:,dim] = np.where(np.isnan(warped_imgs).any(axis = 0).all(axis = 2), np.nan, integrated_img[:,:,dim])\n",
    "\n",
    "            #     plt.figure()\n",
    "            #     plt.imshow(integrated_img)\n",
    "            #     plt.figure()\n",
    "            #     plt.imshow(integrated_img_nan)\n",
    "            \n",
    "                matplotlib.image.imsave('data_WiSAR\\\\data\\\\integrated_imgs_' + dataset + '\\\\' + folder + '\\\\' + str(time_point) + '-' + camera + '_integrated.png', integrated_img)\n",
    "                matplotlib.image.imsave('data_WiSAR\\\\data\\\\integrated_imgs_' + dataset + '\\\\' + folder + '\\\\' + str(time_point) + '-' + camera + '_integrated_nan.png', integrated_img_nan)\n"
   ]
  },
  {
   "cell_type": "code",
   "execution_count": null,
   "metadata": {},
   "outputs": [],
   "source": [
    "def integrate_all(dataset = 'train'):\n",
    "\n",
    "    mask = skimage.io.imread('data_WiSAR\\\\data\\\\mask.png')\n",
    "    if not os.path.isdir('data_WiSAR\\\\data\\\\integrated_imgs_' + dataset):\n",
    "        os.makedirs('data_WiSAR\\\\data\\\\integrated_imgs_' + dataset)\n",
    "    for folder in os.listdir('data_WiSAR\\\\data\\\\' + dataset):\n",
    "        if folder.startswith(dataset):\n",
    "            if not os.path.isdir('data_WiSAR\\\\data\\\\integrated_imgs_' + dataset + '\\\\' + folder):\n",
    "                os.makedirs('data_WiSAR\\\\data\\\\integrated_imgs_' + dataset + '\\\\' + folder)\n",
    "            with open('data_WiSAR\\\\data\\\\' + dataset + '\\\\' + folder + '\\\\homographies.json') as f:\n",
    "                homographies = json.load(f)\n",
    "            warped_imgs = []\n",
    "            for time_point in [0,1,2,3,4,5,6]:\n",
    "                for camera in ['B01', 'B02', 'B03', 'B04', 'B05', 'G01', 'G02', 'G03', 'G04', 'G05']:\n",
    "                    img = skimage.io.imread('data_WiSAR\\\\data\\\\' + dataset + '\\\\' + folder + '\\\\' + str(time_point) + '-' + camera + '.png')\n",
    "                    img = img[..., :3].astype(np.float32)/255\n",
    "                    img[mask==0] = np.nan\n",
    "\n",
    "                    homography = np.array(homographies[str(time_point) + '-' + camera])\n",
    "                    warped_img = img.copy()\n",
    "                    for dim in range(3):\n",
    "                        warped_img[:,:,dim] = cv2.warpPerspective(img[:,:,dim],homography,img.shape[:2],borderMode = cv2.BORDER_CONSTANT,borderValue = np.nan) \n",
    "                    warped_imgs.append(warped_img)\n",
    "\n",
    "            integrated_img = np.nanmean(np.array(warped_imgs), axis = 0)\n",
    "\n",
    "            integrated_img_nan = integrated_img.copy()\n",
    "            for dim in range(3):\n",
    "                integrated_img_nan[:,:,dim] = np.where(np.isnan(warped_imgs).any(axis = 0).all(axis = 2), np.nan, integrated_img[:,:,dim])\n",
    "\n",
    "    #         plt.figure()\n",
    "    #         plt.imshow(integrated_img)\n",
    "    #         plt.figure()\n",
    "    #         plt.imshow(integrated_img_nan)\n",
    "    \n",
    "            matplotlib.image.imsave('data_WiSAR\\\\data\\\\integrated_imgs_' + dataset + '\\\\' + folder + '\\\\all_integrated.png', integrated_img)\n",
    "            matplotlib.image.imsave('data_WiSAR\\\\data\\\\integrated_imgs_' + dataset + '\\\\' + folder + '\\\\all_integrated_nan.png', integrated_img_nan)\n"
   ]
  },
  {
   "cell_type": "code",
   "execution_count": null,
   "metadata": {},
   "outputs": [],
   "source": [
    "integrate_parallel('train')\n",
    "integrate_parallel('test')\n",
    "integrate_parallel('validation')\n",
    "\n",
    "integrate_all('train')\n",
    "integrate_all('test')\n",
    "integrate_all('validation')"
   ]
  }
 ],
 "metadata": {
  "kernelspec": {
   "display_name": "Python 3",
   "language": "python",
   "name": "python3"
  },
  "language_info": {
   "codemirror_mode": {
    "name": "ipython",
    "version": 3
   },
   "file_extension": ".py",
   "mimetype": "text/x-python",
   "name": "python",
   "nbconvert_exporter": "python",
   "pygments_lexer": "ipython3",
   "version": "3.8.5"
  }
 },
 "nbformat": 4,
 "nbformat_minor": 4
}
