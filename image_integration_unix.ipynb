{
 "cells": [
  {
   "cell_type": "markdown",
   "metadata": {
    "toc": true
   },
   "source": [
    "<h1>Table of Contents<span class=\"tocSkip\"></span></h1>\n",
    "<div class=\"toc\"><ul class=\"toc-item\"></ul></div>"
   ]
  },
  {
   "cell_type": "code",
   "execution_count": 1,
   "metadata": {
    "ExecuteTime": {
     "end_time": "2021-12-08T13:38:07.567107Z",
     "start_time": "2021-12-08T13:37:53.169989Z"
    }
   },
   "outputs": [],
   "source": [
    "import skimage\n",
    "from skimage import io\n",
    "import matplotlib.pyplot as plt\n",
    "import json\n",
    "import cv2\n",
    "import numpy as np\n",
    "import matplotlib\n",
    "import os"
   ]
  },
  {
   "cell_type": "code",
   "execution_count": 8,
   "metadata": {
    "ExecuteTime": {
     "end_time": "2021-12-08T13:50:25.334757Z",
     "start_time": "2021-12-08T13:50:25.322938Z"
    },
    "scrolled": false
   },
   "outputs": [],
   "source": [
    "DATA_DIR= \"./data/\"\n",
    "\n",
    "def integrate_parallel(dataset = 'train'):\n",
    "\n",
    "    mask = skimage.io.imread(DATA_DIR+'mask.png')\n",
    "    if not os.path.isdir(DATA_DIR+'integrated_imgs_' + dataset):\n",
    "        os.makedirs(DATA_DIR+'integrated_imgs_' + dataset)\n",
    "    for folder in os.listdir(DATA_DIR + dataset):\n",
    "        if folder.startswith(dataset):\n",
    "            if not os.path.isdir(DATA_DIR + '/integrated_imgs_' + dataset + '/' + folder):\n",
    "                os.makedirs(DATA_DIR + '/integrated_imgs_' + dataset + '/' + folder)\n",
    "            with open(DATA_DIR + dataset + '/' + folder + '/homographies.json') as f:\n",
    "                homographies = json.load(f)\n",
    "            for time_point in [0,1,2,3,4,5,6]:\n",
    "                warped_imgs = []\n",
    "                for camera in ['B01', 'B02', 'B03', 'B04', 'B05', 'G01', 'G02', 'G03', 'G04', 'G05']:\n",
    "                    img = skimage.io.imread(DATA_DIR + dataset + '/' + folder + '/' + str(time_point) + '-' + camera + '.png')\n",
    "                    img = img[..., :3].astype(np.float32)/255\n",
    "                    img[mask==0] = np.nan\n",
    "\n",
    "                    homography = np.array(homographies[str(time_point) + '-' + camera])\n",
    "                    warped_img = img.copy()\n",
    "                    for dim in range(3):\n",
    "                        warped_img[:,:,dim] = cv2.warpPerspective(img[:,:,dim],homography,img.shape[:2],borderMode = cv2.BORDER_CONSTANT,borderValue = np.nan) \n",
    "                    warped_imgs.append(warped_img)\n",
    "\n",
    "                integrated_img = np.nanmean(np.array(warped_imgs), axis = 0)\n",
    "\n",
    "                integrated_img_nan = integrated_img.copy()\n",
    "                for dim in range(3):\n",
    "                    integrated_img_nan[:,:,dim] = np.where(np.isnan(warped_imgs).any(axis = 0).all(axis = 2), np.nan, integrated_img[:,:,dim])\n",
    "\n",
    "            #     plt.figure()\n",
    "            #     plt.imshow(integrated_img)\n",
    "            #     plt.figure()\n",
    "            #     plt.imshow(integrated_img_nan)\n",
    "            \n",
    "                matplotlib.image.imsave(DATA_DIR + '/integrated_imgs_' + dataset + '/' + folder + '/' + str(time_point) + '-' + camera + '_integrated.png', integrated_img)\n",
    "                matplotlib.image.imsave(DATA_DIR + '/integrated_imgs_' + dataset + '/' + folder + '/' + str(time_point) + '-' + camera + '_integrated_nan.png', integrated_img_nan)\n"
   ]
  },
  {
   "cell_type": "code",
   "execution_count": 9,
   "metadata": {
    "ExecuteTime": {
     "end_time": "2021-12-08T13:50:25.517457Z",
     "start_time": "2021-12-08T13:50:25.502758Z"
    }
   },
   "outputs": [],
   "source": [
    "def integrate_all(dataset = 'train'):\n",
    "\n",
    "    mask = skimage.io.imread(DATA_DIR + 'mask.png')\n",
    "    if not os.path.isdir(DATA_DIR + 'integrated_imgs_' + dataset):\n",
    "        os.makedirs(DATA_DIR + 'integrated_imgs_' + dataset)\n",
    "    for folder in os.listdir(DATA_DIR + '' + dataset):\n",
    "        if folder.startswith(dataset):\n",
    "            if not os.path.isdir(DATA_DIR + 'integrated_imgs_' + dataset + '/' + folder):\n",
    "                os.makedirs(DATA_DIR + 'integrated_imgs_' + dataset + '/' + folder)\n",
    "            with open(DATA_DIR + '' + dataset + '/' + folder + 'homographies.json') as f:\n",
    "                homographies = json.load(f)\n",
    "            warped_imgs = []\n",
    "            for time_point in [0,1,2,3,4,5,6]:\n",
    "                for camera in ['B01', 'B02', 'B03', 'B04', 'B05', 'G01', 'G02', 'G03', 'G04', 'G05']:\n",
    "                    img = skimage.io.imread(DATA_DIR + '' + dataset + '/' + folder + '/' + str(time_point) + '-' + camera + '.png')\n",
    "                    img = img[..., :3].astype(np.float32)/255\n",
    "                    img[mask==0] = np.nan\n",
    "\n",
    "                    homography = np.array(homographies[str(time_point) + '-' + camera])\n",
    "                    warped_img = img.copy()\n",
    "                    for dim in range(3):\n",
    "                        warped_img[:,:,dim] = cv2.warpPerspective(img[:,:,dim],homography,img.shape[:2],borderMode = cv2.BORDER_CONSTANT,borderValue = np.nan) \n",
    "                    warped_imgs.append(warped_img)\n",
    "\n",
    "            integrated_img = np.nanmean(np.array(warped_imgs), axis = 0)\n",
    "\n",
    "            integrated_img_nan = integrated_img.copy()\n",
    "            for dim in range(3):\n",
    "                integrated_img_nan[:,:,dim] = np.where(np.isnan(warped_imgs).any(axis = 0).all(axis = 2), np.nan, integrated_img[:,:,dim])\n",
    "\n",
    "    #         plt.figure()\n",
    "    #         plt.imshow(integrated_img)\n",
    "    #         plt.figure()\n",
    "    #         plt.imshow(integrated_img_nan)\n",
    "    \n",
    "            matplotlib.image.imsave(DATA_DIR + 'integrated_imgs_' + dataset + '/' + folder + '/all_integrated.png', integrated_img)\n",
    "            matplotlib.image.imsave(DATA_DIR + 'integrated_imgs_' + dataset + '/' + folder + '/all_integrated_nan.png', integrated_img_nan)\n"
   ]
  },
  {
   "cell_type": "code",
   "execution_count": 10,
   "metadata": {
    "ExecuteTime": {
     "end_time": "2021-12-08T14:00:14.873688Z",
     "start_time": "2021-12-08T13:50:25.671859Z"
    }
   },
   "outputs": [
    {
     "name": "stderr",
     "output_type": "stream",
     "text": [
      "/var/folders/_c/75lstqlj3n5cllxr3qx75tc00000gn/T/ipykernel_33290/3107136023.py:27: RuntimeWarning: Mean of empty slice\n",
      "  integrated_img = np.nanmean(np.array(warped_imgs), axis = 0)\n"
     ]
    },
    {
     "ename": "FileNotFoundError",
     "evalue": "[Errno 2] No such file or directory: './data/train/train-1-5homographies.json'",
     "output_type": "error",
     "traceback": [
      "\u001b[0;31m---------------------------------------------------------------------------\u001b[0m",
      "\u001b[0;31mFileNotFoundError\u001b[0m                         Traceback (most recent call last)",
      "\u001b[0;32m/var/folders/_c/75lstqlj3n5cllxr3qx75tc00000gn/T/ipykernel_33290/1539314537.py\u001b[0m in \u001b[0;36m<module>\u001b[0;34m\u001b[0m\n\u001b[1;32m      3\u001b[0m \u001b[0mintegrate_parallel\u001b[0m\u001b[0;34m(\u001b[0m\u001b[0;34m'validation'\u001b[0m\u001b[0;34m)\u001b[0m\u001b[0;34m\u001b[0m\u001b[0;34m\u001b[0m\u001b[0m\n\u001b[1;32m      4\u001b[0m \u001b[0;34m\u001b[0m\u001b[0m\n\u001b[0;32m----> 5\u001b[0;31m \u001b[0mintegrate_all\u001b[0m\u001b[0;34m(\u001b[0m\u001b[0;34m'train'\u001b[0m\u001b[0;34m)\u001b[0m\u001b[0;34m\u001b[0m\u001b[0;34m\u001b[0m\u001b[0m\n\u001b[0m\u001b[1;32m      6\u001b[0m \u001b[0mintegrate_all\u001b[0m\u001b[0;34m(\u001b[0m\u001b[0;34m'test'\u001b[0m\u001b[0;34m)\u001b[0m\u001b[0;34m\u001b[0m\u001b[0;34m\u001b[0m\u001b[0m\n\u001b[1;32m      7\u001b[0m \u001b[0mintegrate_all\u001b[0m\u001b[0;34m(\u001b[0m\u001b[0;34m'validation'\u001b[0m\u001b[0;34m)\u001b[0m\u001b[0;34m\u001b[0m\u001b[0;34m\u001b[0m\u001b[0m\n",
      "\u001b[0;32m/var/folders/_c/75lstqlj3n5cllxr3qx75tc00000gn/T/ipykernel_33290/478380286.py\u001b[0m in \u001b[0;36mintegrate_all\u001b[0;34m(dataset)\u001b[0m\n\u001b[1;32m      8\u001b[0m             \u001b[0;32mif\u001b[0m \u001b[0;32mnot\u001b[0m \u001b[0mos\u001b[0m\u001b[0;34m.\u001b[0m\u001b[0mpath\u001b[0m\u001b[0;34m.\u001b[0m\u001b[0misdir\u001b[0m\u001b[0;34m(\u001b[0m\u001b[0mDATA_DIR\u001b[0m \u001b[0;34m+\u001b[0m \u001b[0;34m'integrated_imgs_'\u001b[0m \u001b[0;34m+\u001b[0m \u001b[0mdataset\u001b[0m \u001b[0;34m+\u001b[0m \u001b[0;34m'/'\u001b[0m \u001b[0;34m+\u001b[0m \u001b[0mfolder\u001b[0m\u001b[0;34m)\u001b[0m\u001b[0;34m:\u001b[0m\u001b[0;34m\u001b[0m\u001b[0;34m\u001b[0m\u001b[0m\n\u001b[1;32m      9\u001b[0m                 \u001b[0mos\u001b[0m\u001b[0;34m.\u001b[0m\u001b[0mmakedirs\u001b[0m\u001b[0;34m(\u001b[0m\u001b[0mDATA_DIR\u001b[0m \u001b[0;34m+\u001b[0m \u001b[0;34m'integrated_imgs_'\u001b[0m \u001b[0;34m+\u001b[0m \u001b[0mdataset\u001b[0m \u001b[0;34m+\u001b[0m \u001b[0;34m'/'\u001b[0m \u001b[0;34m+\u001b[0m \u001b[0mfolder\u001b[0m\u001b[0;34m)\u001b[0m\u001b[0;34m\u001b[0m\u001b[0;34m\u001b[0m\u001b[0m\n\u001b[0;32m---> 10\u001b[0;31m             \u001b[0;32mwith\u001b[0m \u001b[0mopen\u001b[0m\u001b[0;34m(\u001b[0m\u001b[0mDATA_DIR\u001b[0m \u001b[0;34m+\u001b[0m \u001b[0;34m''\u001b[0m \u001b[0;34m+\u001b[0m \u001b[0mdataset\u001b[0m \u001b[0;34m+\u001b[0m \u001b[0;34m'/'\u001b[0m \u001b[0;34m+\u001b[0m \u001b[0mfolder\u001b[0m \u001b[0;34m+\u001b[0m \u001b[0;34m'homographies.json'\u001b[0m\u001b[0;34m)\u001b[0m \u001b[0;32mas\u001b[0m \u001b[0mf\u001b[0m\u001b[0;34m:\u001b[0m\u001b[0;34m\u001b[0m\u001b[0;34m\u001b[0m\u001b[0m\n\u001b[0m\u001b[1;32m     11\u001b[0m                 \u001b[0mhomographies\u001b[0m \u001b[0;34m=\u001b[0m \u001b[0mjson\u001b[0m\u001b[0;34m.\u001b[0m\u001b[0mload\u001b[0m\u001b[0;34m(\u001b[0m\u001b[0mf\u001b[0m\u001b[0;34m)\u001b[0m\u001b[0;34m\u001b[0m\u001b[0;34m\u001b[0m\u001b[0m\n\u001b[1;32m     12\u001b[0m             \u001b[0mwarped_imgs\u001b[0m \u001b[0;34m=\u001b[0m \u001b[0;34m[\u001b[0m\u001b[0;34m]\u001b[0m\u001b[0;34m\u001b[0m\u001b[0;34m\u001b[0m\u001b[0m\n",
      "\u001b[0;31mFileNotFoundError\u001b[0m: [Errno 2] No such file or directory: './data/train/train-1-5homographies.json'"
     ]
    }
   ],
   "source": [
    "integrate_parallel('train')\n",
    "integrate_parallel('test')\n",
    "integrate_parallel('validation')\n",
    "\n",
    "integrate_all('train')\n",
    "integrate_all('test')\n",
    "integrate_all('validation')"
   ]
  },
  {
   "cell_type": "code",
   "execution_count": null,
   "metadata": {},
   "outputs": [],
   "source": []
  },
  {
   "cell_type": "code",
   "execution_count": null,
   "metadata": {},
   "outputs": [],
   "source": []
  }
 ],
 "metadata": {
  "hide_input": false,
  "kernelspec": {
   "display_name": "Python 3 (ipykernel)",
   "language": "python",
   "name": "python3"
  },
  "language_info": {
   "codemirror_mode": {
    "name": "ipython",
    "version": 3
   },
   "file_extension": ".py",
   "mimetype": "text/x-python",
   "name": "python",
   "nbconvert_exporter": "python",
   "pygments_lexer": "ipython3",
   "version": "3.9.7"
  },
  "toc": {
   "base_numbering": 1,
   "nav_menu": {},
   "number_sections": true,
   "sideBar": true,
   "skip_h1_title": false,
   "title_cell": "Table of Contents",
   "title_sidebar": "Contents",
   "toc_cell": true,
   "toc_position": {},
   "toc_section_display": true,
   "toc_window_display": true
  }
 },
 "nbformat": 4,
 "nbformat_minor": 4
}
