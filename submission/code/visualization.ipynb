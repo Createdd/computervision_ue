{
 "cells": [
  {
   "cell_type": "markdown",
   "metadata": {},
   "source": [
    "## Image visualization\n",
    "\n",
    "Follow the instructions below to plot intermediate images from the detection process optionally including labels for the targets and/or detections."
   ]
  },
  {
   "cell_type": "markdown",
   "metadata": {},
   "source": [
    "In the cell below define a **list of images**, which you want to plot consisting of one or more elements out of the following:\n",
    "\n",
    "    - 'warped_G01_3'\n",
    "    - 'intergrated_3'\n",
    "    - 'cropped_3'\n",
    "    - 'var_image'\n",
    "    - 'var_red'\n",
    "    - 'var_green'\n",
    "    - 'var_blue'\n",
    "    - 'var_blue_green'\n",
    "    - 'var_red_green'\n",
    "    - 'adjusted_blue'\n",
    "    - 'adjusted_red'\n",
    "    - 'dilated_blue'\n",
    "    - 'dilated_red'\n",
    "    - 'eroded_blue'\n",
    "    - 'eroded_red'\n",
    "    - 'dilated2_blue'\n",
    "    - 'dilated2_red'\n",
    "    - 'binary_blue'\n",
    "    - 'binary_red'"
   ]
  },
  {
   "cell_type": "code",
   "execution_count": 1,
   "metadata": {},
   "outputs": [],
   "source": [
    "# image_list = ['warped_G01_3','intergrated_3','cropped_3','var_image','var_red','var_green','var_blue','var_blue_green','var_red_green','adjusted_blue','adjusted_red','dilated_blue','dilated_red','eroded_blue','eroded_red','dilated2_blue','dilated2_red','binary_blue','binary_red']\n",
    "image_list = ['binary_blue','binary_red']"
   ]
  },
  {
   "cell_type": "markdown",
   "metadata": {},
   "source": [
    "Specify the **dataset** ('train', 'validation' or 'test'), the **directory** the data ist saved in in the form of a folder named after the dataset as well as a **list of all folder names** for samples you want to analyse (use os.listdir(os.path.join(data_dir, dataset)) to analyse all samples of the dataset)."
   ]
  },
  {
   "cell_type": "code",
   "execution_count": 2,
   "metadata": {},
   "outputs": [],
   "source": [
    "import os\n",
    "\n",
    "dataset = 'validation'\n",
    "data_dir = os.path.join('..','data')\n",
    "# folders = os.listdir(os.path.join(data_dir, dataset))\n",
    "folders = ['valid-2-0']"
   ]
  },
  {
   "cell_type": "markdown",
   "metadata": {},
   "source": [
    "Specify, whether you want to **label the provided targets** in the images as well as the **colour**, you want them to be displayed in in as rgb values between 0 and 1."
   ]
  },
  {
   "cell_type": "code",
   "execution_count": 3,
   "metadata": {},
   "outputs": [],
   "source": [
    "label_targets = True\n",
    "target_colour = (0,1,0)"
   ]
  },
  {
   "cell_type": "markdown",
   "metadata": {},
   "source": [
    "State, whether you want to **label the detections** in the images, which **colour** you want to plot them in and the **path to the json file** containing the detection dictionary."
   ]
  },
  {
   "cell_type": "code",
   "execution_count": 4,
   "metadata": {},
   "outputs": [],
   "source": [
    "label_detections = True\n",
    "detection_colour = (1,0,0)\n",
    "detection_path = os.path.join('..','val.json')"
   ]
  },
  {
   "cell_type": "markdown",
   "metadata": {},
   "source": [
    "Specify, whether you want to have the images **plotted in this notebook** and/or **saved as png files** in a folder named processed_images"
   ]
  },
  {
   "cell_type": "code",
   "execution_count": 5,
   "metadata": {},
   "outputs": [],
   "source": [
    "plot = True\n",
    "save = True"
   ]
  },
  {
   "cell_type": "markdown",
   "metadata": {},
   "source": [
    "Run the following cell to get labelled images as specified above."
   ]
  },
  {
   "cell_type": "code",
   "execution_count": 6,
   "metadata": {},
   "outputs": [
    {
     "name": "stdout",
     "output_type": "stream",
     "text": [
      "IoU for valid-2-0: [[0.57539683 0.        ]\n",
      " [0.         0.63926941]]\n",
      "AP for validation: 0.5743589743589743\n"
     ]
    },
    {
     "data": {
      "image/png": "[encoded data removed]",
      "text/plain": [
       "<Figure size 432x288 with 1 Axes>"
      ]
     },
     "metadata": {
      "needs_background": "light"
     },
     "output_type": "display_data"
    },
    {
     "data": {
      "image/png": "[encoded data removed]",
      "text/plain": [
       "<Figure size 432x288 with 1 Axes>"
      ]
     },
     "metadata": {
      "needs_background": "light"
     },
     "output_type": "display_data"
    }
   ],
   "source": [
    "from utils import plot_images\n",
    "import warnings\n",
    "warnings.filterwarnings(\"ignore\", category=RuntimeWarning)\n",
    "\n",
    "plot_images(image_list, dataset, data_dir, folders, label_targets, target_colour, label_detections, detection_colour, detection_path, plot, save)"
   ]
  },
  {
   "cell_type": "code",
   "execution_count": null,
   "metadata": {},
   "outputs": [],
   "source": []
  }
 ],
 "metadata": {
  "kernelspec": {
   "display_name": "Python 3 (ipykernel)",
   "language": "python",
   "name": "python3"
  },
  "language_info": {
   "codemirror_mode": {
    "name": "ipython",
    "version": 3
   },
   "file_extension": ".py",
   "mimetype": "text/x-python",
   "name": "python",
   "nbconvert_exporter": "python",
   "pygments_lexer": "ipython3",
   "version": "3.9.7"
  }
 },
 "nbformat": 4,
 "nbformat_minor": 4
}
